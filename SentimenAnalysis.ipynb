{
  "nbformat": 4,
  "nbformat_minor": 0,
  "metadata": {
    "colab": {
      "provenance": [],
      "authorship_tag": "ABX9TyPnzmyKIFlIpjE7zLPAgcV2",
      "include_colab_link": true
    },
    "kernelspec": {
      "name": "python3",
      "display_name": "Python 3"
    },
    "language_info": {
      "name": "python"
    }
  },
  "cells": [
    {
      "cell_type": "markdown",
      "metadata": {
        "id": "view-in-github",
        "colab_type": "text"
      },
      "source": [
        "<a href=\"https://colab.research.google.com/github/YAMDAks/ReactLearn/blob/master/SentimenAnalysis.ipynb\" target=\"_parent\"><img src=\"https://colab.research.google.com/assets/colab-badge.svg\" alt=\"Open In Colab\"/></a>"
      ]
    },
    {
      "cell_type": "code",
      "execution_count": 13,
      "metadata": {
        "id": "VRY08tSQeCPK"
      },
      "outputs": [],
      "source": [
        "import pandas as pd\n",
        "import numpy as np"
      ]
    },
    {
      "cell_type": "code",
      "source": [
        "import requests\n",
        "import json\n",
        "import pandas as pd\n",
        "from datetime import date\n",
        "from tqdm import tqdm, tqdm_pandas\n",
        "\n",
        "tqdm.pandas()"
      ],
      "metadata": {
        "id": "vnJXE4BtebXd"
      },
      "execution_count": 14,
      "outputs": []
    },
    {
      "cell_type": "code",
      "source": [
        "url = \"https://api.aiforthai.in.th/ssense\"\n",
        "text = \"เน้นคุณภาพ\"\n",
        "api_key = \"YJABQuLlo7m55TSF1AomYGGP9WToO0Ch\"\n",
        "params = {\"text\": text}\n",
        "headers = {\"Apikey\": api_key,\n",
        "           \"Content-Type\": \"application/x-www-form-urlencoded\"}\n",
        "res = requests.get(url, params=params, headers=headers)\n",
        "intent = max(res.json()[\"intention\"], key=res.json()[\"intention\"].get)\n",
        "sentipolar = res.json()[\"sentiment\"][\"polarity\"]\n",
        "keyword = res.json()[\"preprocess\"][sentipolar[0:3]]"
      ],
      "metadata": {
        "id": "j_7OI2P-e1_J"
      },
      "execution_count": 85,
      "outputs": []
    },
    {
      "cell_type": "code",
      "source": [
        "res.json()"
      ],
      "metadata": {
        "colab": {
          "base_uri": "https://localhost:8080/"
        },
        "id": "Vu6rpsO4e8Sm",
        "outputId": "77dd3f71-10f6-4fe3-b42b-7ab63e7d6e94"
      },
      "execution_count": 86,
      "outputs": [
        {
          "output_type": "execute_result",
          "data": {
            "text/plain": [
              "{'sentiment': {'score': '66.67',\n",
              "  'polarity-neg': False,\n",
              "  'polarity-pos': True,\n",
              "  'polarity': 'positive'},\n",
              " 'preprocess': {'input': 'เน้นคุณภาพ',\n",
              "  'neg': [],\n",
              "  'pos': ['คุณภาพ'],\n",
              "  'segmented': ['เน้น', 'คุณภาพ'],\n",
              "  'keyword': ['เน้น']},\n",
              " 'alert': [],\n",
              " 'comparative': [],\n",
              " 'associative': [],\n",
              " 'intention': {'request': '0',\n",
              "  'sentiment': '66.67',\n",
              "  'question': '0',\n",
              "  'announcement': '0'}}"
            ]
          },
          "metadata": {},
          "execution_count": 86
        }
      ]
    },
    {
      "cell_type": "code",
      "source": [
        "import plotly.express as px\n",
        "import pandas as pd\n",
        "df = pd.DataFrame(dict(\n",
        "    r=[75,83.33,75,75,66.67,75,66.67,80,66.67,66.67,66.67,66.67,80,75,66.67,80,66.67,80,66.67,66.67,66.67,66.67,80,75,66.67,66.67,66.67,80,66.67,66.67,66.67,66.67],\n",
        "    theta=['ขอบคุณมากครับ','สอนดีมากครับ','สอนละเอียดดีครับ','เยี่ยมมากเลยครับ','เข้าใจง่าย','ชอบค่ะ','ดีงาน','สุดยอดมากๆ','สนุกมาก','เยี่ยมไปเลย','สอนได้ดีมากๆ','อธิบายได้ดีมาก','สุดยอดครับ','ให้กำลังใจครับ','เข้าใจง่ายมาก','อย่างเจ๋งค่ะ','ดีงามพระรามเก้าครับ','น่าฟังน่าเรียนรู้','เสียงชัด','รวบรัด','ชัดเจน','มีประโยชน์','ไม่น่าเบื่อ','เก่งมาก','กราบงามๆ','นับถือ','ใช้ได้จริง','เข้าใจแตกฉาน','พูดได้ดี','ฟังเข้าใจง่าย','เสนอแนะได้ดี','เน้นคุณภาพ']))\n",
        "fig = px.line_polar(df, r='r', theta='theta', line_close=True)\n",
        "fig.show()"
      ],
      "metadata": {
        "colab": {
          "base_uri": "https://localhost:8080/",
          "height": 542
        },
        "id": "GyH7qZQNfEpl",
        "outputId": "b8d95ce6-927e-4585-9c61-04406fc599bb"
      },
      "execution_count": 87,
      "outputs": [
        {
          "output_type": "display_data",
          "data": {
            "text/html": [
              "<html>\n",
              "<head><meta charset=\"utf-8\" /></head>\n",
              "<body>\n",
              "    <div>            <script src=\"https://cdnjs.cloudflare.com/ajax/libs/mathjax/2.7.5/MathJax.js?config=TeX-AMS-MML_SVG\"></script><script type=\"text/javascript\">if (window.MathJax && window.MathJax.Hub && window.MathJax.Hub.Config) {window.MathJax.Hub.Config({SVG: {font: \"STIX-Web\"}});}</script>                <script type=\"text/javascript\">window.PlotlyConfig = {MathJaxConfig: 'local'};</script>\n",
              "        <script charset=\"utf-8\" src=\"https://cdn.plot.ly/plotly-2.24.1.min.js\"></script>                <div id=\"30c3c377-62dd-44d8-8da6-7e8cbec50a91\" class=\"plotly-graph-div\" style=\"height:525px; width:100%;\"></div>            <script type=\"text/javascript\">                                    window.PLOTLYENV=window.PLOTLYENV || {};                                    if (document.getElementById(\"30c3c377-62dd-44d8-8da6-7e8cbec50a91\")) {                    Plotly.newPlot(                        \"30c3c377-62dd-44d8-8da6-7e8cbec50a91\",                        [{\"hovertemplate\":\"r=%{r}\\u003cbr\\u003etheta=%{theta}\\u003cextra\\u003e\\u003c\\u002fextra\\u003e\",\"legendgroup\":\"\",\"line\":{\"color\":\"#636efa\",\"dash\":\"solid\"},\"marker\":{\"symbol\":\"circle\"},\"mode\":\"lines\",\"name\":\"\",\"r\":[75.0,83.33,75.0,75.0,66.67,75.0,66.67,80.0,66.67,66.67,66.67,66.67,80.0,75.0,66.67,80.0,66.67,80.0,66.67,66.67,66.67,66.67,80.0,75.0,66.67,66.67,66.67,80.0,66.67,66.67,66.67,66.67,75.0],\"showlegend\":false,\"subplot\":\"polar\",\"theta\":[\"\\u0e02\\u0e2d\\u0e1a\\u0e04\\u0e38\\u0e13\\u0e21\\u0e32\\u0e01\\u0e04\\u0e23\\u0e31\\u0e1a\",\"\\u0e2a\\u0e2d\\u0e19\\u0e14\\u0e35\\u0e21\\u0e32\\u0e01\\u0e04\\u0e23\\u0e31\\u0e1a\",\"\\u0e2a\\u0e2d\\u0e19\\u0e25\\u0e30\\u0e40\\u0e2d\\u0e35\\u0e22\\u0e14\\u0e14\\u0e35\\u0e04\\u0e23\\u0e31\\u0e1a\",\"\\u0e40\\u0e22\\u0e35\\u0e48\\u0e22\\u0e21\\u0e21\\u0e32\\u0e01\\u0e40\\u0e25\\u0e22\\u0e04\\u0e23\\u0e31\\u0e1a\",\"\\u0e40\\u0e02\\u0e49\\u0e32\\u0e43\\u0e08\\u0e07\\u0e48\\u0e32\\u0e22\",\"\\u0e0a\\u0e2d\\u0e1a\\u0e04\\u0e48\\u0e30\",\"\\u0e14\\u0e35\\u0e07\\u0e32\\u0e19\",\"\\u0e2a\\u0e38\\u0e14\\u0e22\\u0e2d\\u0e14\\u0e21\\u0e32\\u0e01\\u0e46\",\"\\u0e2a\\u0e19\\u0e38\\u0e01\\u0e21\\u0e32\\u0e01\",\"\\u0e40\\u0e22\\u0e35\\u0e48\\u0e22\\u0e21\\u0e44\\u0e1b\\u0e40\\u0e25\\u0e22\",\"\\u0e2a\\u0e2d\\u0e19\\u0e44\\u0e14\\u0e49\\u0e14\\u0e35\\u0e21\\u0e32\\u0e01\\u0e46\",\"\\u0e2d\\u0e18\\u0e34\\u0e1a\\u0e32\\u0e22\\u0e44\\u0e14\\u0e49\\u0e14\\u0e35\\u0e21\\u0e32\\u0e01\",\"\\u0e2a\\u0e38\\u0e14\\u0e22\\u0e2d\\u0e14\\u0e04\\u0e23\\u0e31\\u0e1a\",\"\\u0e43\\u0e2b\\u0e49\\u0e01\\u0e33\\u0e25\\u0e31\\u0e07\\u0e43\\u0e08\\u0e04\\u0e23\\u0e31\\u0e1a\",\"\\u0e40\\u0e02\\u0e49\\u0e32\\u0e43\\u0e08\\u0e07\\u0e48\\u0e32\\u0e22\\u0e21\\u0e32\\u0e01\",\"\\u0e2d\\u0e22\\u0e48\\u0e32\\u0e07\\u0e40\\u0e08\\u0e4b\\u0e07\\u0e04\\u0e48\\u0e30\",\"\\u0e14\\u0e35\\u0e07\\u0e32\\u0e21\\u0e1e\\u0e23\\u0e30\\u0e23\\u0e32\\u0e21\\u0e40\\u0e01\\u0e49\\u0e32\\u0e04\\u0e23\\u0e31\\u0e1a\",\"\\u0e19\\u0e48\\u0e32\\u0e1f\\u0e31\\u0e07\\u0e19\\u0e48\\u0e32\\u0e40\\u0e23\\u0e35\\u0e22\\u0e19\\u0e23\\u0e39\\u0e49\",\"\\u0e40\\u0e2a\\u0e35\\u0e22\\u0e07\\u0e0a\\u0e31\\u0e14\",\"\\u0e23\\u0e27\\u0e1a\\u0e23\\u0e31\\u0e14\",\"\\u0e0a\\u0e31\\u0e14\\u0e40\\u0e08\\u0e19\",\"\\u0e21\\u0e35\\u0e1b\\u0e23\\u0e30\\u0e42\\u0e22\\u0e0a\\u0e19\\u0e4c\",\"\\u0e44\\u0e21\\u0e48\\u0e19\\u0e48\\u0e32\\u0e40\\u0e1a\\u0e37\\u0e48\\u0e2d\",\"\\u0e40\\u0e01\\u0e48\\u0e07\\u0e21\\u0e32\\u0e01\",\"\\u0e01\\u0e23\\u0e32\\u0e1a\\u0e07\\u0e32\\u0e21\\u0e46\",\"\\u0e19\\u0e31\\u0e1a\\u0e16\\u0e37\\u0e2d\",\"\\u0e43\\u0e0a\\u0e49\\u0e44\\u0e14\\u0e49\\u0e08\\u0e23\\u0e34\\u0e07\",\"\\u0e40\\u0e02\\u0e49\\u0e32\\u0e43\\u0e08\\u0e41\\u0e15\\u0e01\\u0e09\\u0e32\\u0e19\",\"\\u0e1e\\u0e39\\u0e14\\u0e44\\u0e14\\u0e49\\u0e14\\u0e35\",\"\\u0e1f\\u0e31\\u0e07\\u0e40\\u0e02\\u0e49\\u0e32\\u0e43\\u0e08\\u0e07\\u0e48\\u0e32\\u0e22\",\"\\u0e40\\u0e2a\\u0e19\\u0e2d\\u0e41\\u0e19\\u0e30\\u0e44\\u0e14\\u0e49\\u0e14\\u0e35\",\"\\u0e40\\u0e19\\u0e49\\u0e19\\u0e04\\u0e38\\u0e13\\u0e20\\u0e32\\u0e1e\",\"\\u0e02\\u0e2d\\u0e1a\\u0e04\\u0e38\\u0e13\\u0e21\\u0e32\\u0e01\\u0e04\\u0e23\\u0e31\\u0e1a\"],\"type\":\"scatterpolar\"}],                        {\"template\":{\"data\":{\"histogram2dcontour\":[{\"type\":\"histogram2dcontour\",\"colorbar\":{\"outlinewidth\":0,\"ticks\":\"\"},\"colorscale\":[[0.0,\"#0d0887\"],[0.1111111111111111,\"#46039f\"],[0.2222222222222222,\"#7201a8\"],[0.3333333333333333,\"#9c179e\"],[0.4444444444444444,\"#bd3786\"],[0.5555555555555556,\"#d8576b\"],[0.6666666666666666,\"#ed7953\"],[0.7777777777777778,\"#fb9f3a\"],[0.8888888888888888,\"#fdca26\"],[1.0,\"#f0f921\"]]}],\"choropleth\":[{\"type\":\"choropleth\",\"colorbar\":{\"outlinewidth\":0,\"ticks\":\"\"}}],\"histogram2d\":[{\"type\":\"histogram2d\",\"colorbar\":{\"outlinewidth\":0,\"ticks\":\"\"},\"colorscale\":[[0.0,\"#0d0887\"],[0.1111111111111111,\"#46039f\"],[0.2222222222222222,\"#7201a8\"],[0.3333333333333333,\"#9c179e\"],[0.4444444444444444,\"#bd3786\"],[0.5555555555555556,\"#d8576b\"],[0.6666666666666666,\"#ed7953\"],[0.7777777777777778,\"#fb9f3a\"],[0.8888888888888888,\"#fdca26\"],[1.0,\"#f0f921\"]]}],\"heatmap\":[{\"type\":\"heatmap\",\"colorbar\":{\"outlinewidth\":0,\"ticks\":\"\"},\"colorscale\":[[0.0,\"#0d0887\"],[0.1111111111111111,\"#46039f\"],[0.2222222222222222,\"#7201a8\"],[0.3333333333333333,\"#9c179e\"],[0.4444444444444444,\"#bd3786\"],[0.5555555555555556,\"#d8576b\"],[0.6666666666666666,\"#ed7953\"],[0.7777777777777778,\"#fb9f3a\"],[0.8888888888888888,\"#fdca26\"],[1.0,\"#f0f921\"]]}],\"heatmapgl\":[{\"type\":\"heatmapgl\",\"colorbar\":{\"outlinewidth\":0,\"ticks\":\"\"},\"colorscale\":[[0.0,\"#0d0887\"],[0.1111111111111111,\"#46039f\"],[0.2222222222222222,\"#7201a8\"],[0.3333333333333333,\"#9c179e\"],[0.4444444444444444,\"#bd3786\"],[0.5555555555555556,\"#d8576b\"],[0.6666666666666666,\"#ed7953\"],[0.7777777777777778,\"#fb9f3a\"],[0.8888888888888888,\"#fdca26\"],[1.0,\"#f0f921\"]]}],\"contourcarpet\":[{\"type\":\"contourcarpet\",\"colorbar\":{\"outlinewidth\":0,\"ticks\":\"\"}}],\"contour\":[{\"type\":\"contour\",\"colorbar\":{\"outlinewidth\":0,\"ticks\":\"\"},\"colorscale\":[[0.0,\"#0d0887\"],[0.1111111111111111,\"#46039f\"],[0.2222222222222222,\"#7201a8\"],[0.3333333333333333,\"#9c179e\"],[0.4444444444444444,\"#bd3786\"],[0.5555555555555556,\"#d8576b\"],[0.6666666666666666,\"#ed7953\"],[0.7777777777777778,\"#fb9f3a\"],[0.8888888888888888,\"#fdca26\"],[1.0,\"#f0f921\"]]}],\"surface\":[{\"type\":\"surface\",\"colorbar\":{\"outlinewidth\":0,\"ticks\":\"\"},\"colorscale\":[[0.0,\"#0d0887\"],[0.1111111111111111,\"#46039f\"],[0.2222222222222222,\"#7201a8\"],[0.3333333333333333,\"#9c179e\"],[0.4444444444444444,\"#bd3786\"],[0.5555555555555556,\"#d8576b\"],[0.6666666666666666,\"#ed7953\"],[0.7777777777777778,\"#fb9f3a\"],[0.8888888888888888,\"#fdca26\"],[1.0,\"#f0f921\"]]}],\"mesh3d\":[{\"type\":\"mesh3d\",\"colorbar\":{\"outlinewidth\":0,\"ticks\":\"\"}}],\"scatter\":[{\"fillpattern\":{\"fillmode\":\"overlay\",\"size\":10,\"solidity\":0.2},\"type\":\"scatter\"}],\"parcoords\":[{\"type\":\"parcoords\",\"line\":{\"colorbar\":{\"outlinewidth\":0,\"ticks\":\"\"}}}],\"scatterpolargl\":[{\"type\":\"scatterpolargl\",\"marker\":{\"colorbar\":{\"outlinewidth\":0,\"ticks\":\"\"}}}],\"bar\":[{\"error_x\":{\"color\":\"#2a3f5f\"},\"error_y\":{\"color\":\"#2a3f5f\"},\"marker\":{\"line\":{\"color\":\"#E5ECF6\",\"width\":0.5},\"pattern\":{\"fillmode\":\"overlay\",\"size\":10,\"solidity\":0.2}},\"type\":\"bar\"}],\"scattergeo\":[{\"type\":\"scattergeo\",\"marker\":{\"colorbar\":{\"outlinewidth\":0,\"ticks\":\"\"}}}],\"scatterpolar\":[{\"type\":\"scatterpolar\",\"marker\":{\"colorbar\":{\"outlinewidth\":0,\"ticks\":\"\"}}}],\"histogram\":[{\"marker\":{\"pattern\":{\"fillmode\":\"overlay\",\"size\":10,\"solidity\":0.2}},\"type\":\"histogram\"}],\"scattergl\":[{\"type\":\"scattergl\",\"marker\":{\"colorbar\":{\"outlinewidth\":0,\"ticks\":\"\"}}}],\"scatter3d\":[{\"type\":\"scatter3d\",\"line\":{\"colorbar\":{\"outlinewidth\":0,\"ticks\":\"\"}},\"marker\":{\"colorbar\":{\"outlinewidth\":0,\"ticks\":\"\"}}}],\"scattermapbox\":[{\"type\":\"scattermapbox\",\"marker\":{\"colorbar\":{\"outlinewidth\":0,\"ticks\":\"\"}}}],\"scatterternary\":[{\"type\":\"scatterternary\",\"marker\":{\"colorbar\":{\"outlinewidth\":0,\"ticks\":\"\"}}}],\"scattercarpet\":[{\"type\":\"scattercarpet\",\"marker\":{\"colorbar\":{\"outlinewidth\":0,\"ticks\":\"\"}}}],\"carpet\":[{\"aaxis\":{\"endlinecolor\":\"#2a3f5f\",\"gridcolor\":\"white\",\"linecolor\":\"white\",\"minorgridcolor\":\"white\",\"startlinecolor\":\"#2a3f5f\"},\"baxis\":{\"endlinecolor\":\"#2a3f5f\",\"gridcolor\":\"white\",\"linecolor\":\"white\",\"minorgridcolor\":\"white\",\"startlinecolor\":\"#2a3f5f\"},\"type\":\"carpet\"}],\"table\":[{\"cells\":{\"fill\":{\"color\":\"#EBF0F8\"},\"line\":{\"color\":\"white\"}},\"header\":{\"fill\":{\"color\":\"#C8D4E3\"},\"line\":{\"color\":\"white\"}},\"type\":\"table\"}],\"barpolar\":[{\"marker\":{\"line\":{\"color\":\"#E5ECF6\",\"width\":0.5},\"pattern\":{\"fillmode\":\"overlay\",\"size\":10,\"solidity\":0.2}},\"type\":\"barpolar\"}],\"pie\":[{\"automargin\":true,\"type\":\"pie\"}]},\"layout\":{\"autotypenumbers\":\"strict\",\"colorway\":[\"#636efa\",\"#EF553B\",\"#00cc96\",\"#ab63fa\",\"#FFA15A\",\"#19d3f3\",\"#FF6692\",\"#B6E880\",\"#FF97FF\",\"#FECB52\"],\"font\":{\"color\":\"#2a3f5f\"},\"hovermode\":\"closest\",\"hoverlabel\":{\"align\":\"left\"},\"paper_bgcolor\":\"white\",\"plot_bgcolor\":\"#E5ECF6\",\"polar\":{\"bgcolor\":\"#E5ECF6\",\"angularaxis\":{\"gridcolor\":\"white\",\"linecolor\":\"white\",\"ticks\":\"\"},\"radialaxis\":{\"gridcolor\":\"white\",\"linecolor\":\"white\",\"ticks\":\"\"}},\"ternary\":{\"bgcolor\":\"#E5ECF6\",\"aaxis\":{\"gridcolor\":\"white\",\"linecolor\":\"white\",\"ticks\":\"\"},\"baxis\":{\"gridcolor\":\"white\",\"linecolor\":\"white\",\"ticks\":\"\"},\"caxis\":{\"gridcolor\":\"white\",\"linecolor\":\"white\",\"ticks\":\"\"}},\"coloraxis\":{\"colorbar\":{\"outlinewidth\":0,\"ticks\":\"\"}},\"colorscale\":{\"sequential\":[[0.0,\"#0d0887\"],[0.1111111111111111,\"#46039f\"],[0.2222222222222222,\"#7201a8\"],[0.3333333333333333,\"#9c179e\"],[0.4444444444444444,\"#bd3786\"],[0.5555555555555556,\"#d8576b\"],[0.6666666666666666,\"#ed7953\"],[0.7777777777777778,\"#fb9f3a\"],[0.8888888888888888,\"#fdca26\"],[1.0,\"#f0f921\"]],\"sequentialminus\":[[0.0,\"#0d0887\"],[0.1111111111111111,\"#46039f\"],[0.2222222222222222,\"#7201a8\"],[0.3333333333333333,\"#9c179e\"],[0.4444444444444444,\"#bd3786\"],[0.5555555555555556,\"#d8576b\"],[0.6666666666666666,\"#ed7953\"],[0.7777777777777778,\"#fb9f3a\"],[0.8888888888888888,\"#fdca26\"],[1.0,\"#f0f921\"]],\"diverging\":[[0,\"#8e0152\"],[0.1,\"#c51b7d\"],[0.2,\"#de77ae\"],[0.3,\"#f1b6da\"],[0.4,\"#fde0ef\"],[0.5,\"#f7f7f7\"],[0.6,\"#e6f5d0\"],[0.7,\"#b8e186\"],[0.8,\"#7fbc41\"],[0.9,\"#4d9221\"],[1,\"#276419\"]]},\"xaxis\":{\"gridcolor\":\"white\",\"linecolor\":\"white\",\"ticks\":\"\",\"title\":{\"standoff\":15},\"zerolinecolor\":\"white\",\"automargin\":true,\"zerolinewidth\":2},\"yaxis\":{\"gridcolor\":\"white\",\"linecolor\":\"white\",\"ticks\":\"\",\"title\":{\"standoff\":15},\"zerolinecolor\":\"white\",\"automargin\":true,\"zerolinewidth\":2},\"scene\":{\"xaxis\":{\"backgroundcolor\":\"#E5ECF6\",\"gridcolor\":\"white\",\"linecolor\":\"white\",\"showbackground\":true,\"ticks\":\"\",\"zerolinecolor\":\"white\",\"gridwidth\":2},\"yaxis\":{\"backgroundcolor\":\"#E5ECF6\",\"gridcolor\":\"white\",\"linecolor\":\"white\",\"showbackground\":true,\"ticks\":\"\",\"zerolinecolor\":\"white\",\"gridwidth\":2},\"zaxis\":{\"backgroundcolor\":\"#E5ECF6\",\"gridcolor\":\"white\",\"linecolor\":\"white\",\"showbackground\":true,\"ticks\":\"\",\"zerolinecolor\":\"white\",\"gridwidth\":2}},\"shapedefaults\":{\"line\":{\"color\":\"#2a3f5f\"}},\"annotationdefaults\":{\"arrowcolor\":\"#2a3f5f\",\"arrowhead\":0,\"arrowwidth\":1},\"geo\":{\"bgcolor\":\"white\",\"landcolor\":\"#E5ECF6\",\"subunitcolor\":\"white\",\"showland\":true,\"showlakes\":true,\"lakecolor\":\"white\"},\"title\":{\"x\":0.05},\"mapbox\":{\"style\":\"light\"}}},\"polar\":{\"domain\":{\"x\":[0.0,1.0],\"y\":[0.0,1.0]},\"angularaxis\":{\"direction\":\"clockwise\",\"rotation\":90}},\"legend\":{\"tracegroupgap\":0},\"margin\":{\"t\":60}},                        {\"responsive\": true}                    ).then(function(){\n",
              "                            \n",
              "var gd = document.getElementById('30c3c377-62dd-44d8-8da6-7e8cbec50a91');\n",
              "var x = new MutationObserver(function (mutations, observer) {{\n",
              "        var display = window.getComputedStyle(gd).display;\n",
              "        if (!display || display === 'none') {{\n",
              "            console.log([gd, 'removed!']);\n",
              "            Plotly.purge(gd);\n",
              "            observer.disconnect();\n",
              "        }}\n",
              "}});\n",
              "\n",
              "// Listen for the removal of the full notebook cells\n",
              "var notebookContainer = gd.closest('#notebook-container');\n",
              "if (notebookContainer) {{\n",
              "    x.observe(notebookContainer, {childList: true});\n",
              "}}\n",
              "\n",
              "// Listen for the clearing of the current output cell\n",
              "var outputEl = gd.closest('.output');\n",
              "if (outputEl) {{\n",
              "    x.observe(outputEl, {childList: true});\n",
              "}}\n",
              "\n",
              "                        })                };                            </script>        </div>\n",
              "</body>\n",
              "</html>"
            ]
          },
          "metadata": {}
        }
      ]
    }
  ]
}